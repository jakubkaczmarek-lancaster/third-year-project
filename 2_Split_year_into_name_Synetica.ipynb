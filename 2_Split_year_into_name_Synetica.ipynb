{
  "nbformat": 4,
  "nbformat_minor": 0,
  "metadata": {
    "colab": {
      "name": "2 Split year into name Synetica.ipynb",
      "provenance": [],
      "collapsed_sections": [],
      "authorship_tag": "ABX9TyNuFY0pnWcQqEcKnlopPZo/",
      "include_colab_link": true
    },
    "kernelspec": {
      "name": "python3",
      "display_name": "Python 3"
    },
    "language_info": {
      "name": "python"
    }
  },
  "cells": [
    {
      "cell_type": "markdown",
      "metadata": {
        "id": "view-in-github",
        "colab_type": "text"
      },
      "source": [
        "<a href=\"https://colab.research.google.com/github/jakubkaczmarek-lancaster/third-year-project/blob/main/2_Split_year_into_name_Synetica.ipynb\" target=\"_parent\"><img src=\"https://colab.research.google.com/assets/colab-badge.svg\" alt=\"Open In Colab\"/></a>"
      ]
    },
    {
      "cell_type": "code",
      "metadata": {
        "colab": {
          "base_uri": "https://localhost:8080/"
        },
        "id": "YFvKF8nqAOwK",
        "outputId": "7ab0519b-1554-4d28-aa17-533703d9a184"
      },
      "source": [
        "from google.colab import drive\n",
        "drive.mount(\"/content/gdrive\")"
      ],
      "execution_count": null,
      "outputs": [
        {
          "output_type": "stream",
          "text": [
            "Mounted at /content/gdrive\n"
          ],
          "name": "stdout"
        }
      ]
    },
    {
      "cell_type": "code",
      "metadata": {
        "id": "zdoC5MufBZC8"
      },
      "source": [
        "import pandas as pd"
      ],
      "execution_count": null,
      "outputs": []
    },
    {
      "cell_type": "code",
      "metadata": {
        "id": "aBhtfaJioUAg"
      },
      "source": [
        "#changing / to _ and splitting df by name for 2018 data\n",
        "df = pd.read_csv('/content/gdrive/My Drive/data/Synetica/all_2018.csv')\n",
        "df2 = df.replace('/', '_', regex=True)\n",
        "\n",
        "for name, value in df2.groupby('name'):\n",
        "    value.to_csv('/content/gdrive/My Drive/data/Synetica/meters_2018/'f'{name}.csv')\n"
      ],
      "execution_count": null,
      "outputs": []
    },
    {
      "cell_type": "code",
      "metadata": {
        "id": "Dldv6vF_GWfz"
      },
      "source": [
        "#changing / to _ and splitting df by name for 2019 data\n",
        "df = pd.read_csv('/content/gdrive/My Drive/data/Synetica/all_2019.csv')\n",
        "df2 = df.replace('/', '_', regex=True)\n",
        "\n",
        "for name, value in df2.groupby('name'):\n",
        "    value.to_csv('/content/gdrive/My Drive/data/Synetica/meters_2019/'f'{name}.csv')"
      ],
      "execution_count": null,
      "outputs": []
    },
    {
      "cell_type": "code",
      "metadata": {
        "id": "QskU2roFGZt9"
      },
      "source": [
        "#changing / to _ and splitting df by name for 2020 data\n",
        "df = pd.read_csv('/content/gdrive/My Drive/data/Synetica/all_2020.csv')\n",
        "df2 = df.replace('/', '_', regex=True)\n",
        "\n",
        "for name, value in df2.groupby('name'):\n",
        "    value.to_csv('/content/gdrive/My Drive/data/Synetica/meters_2020/'f'{name}.csv')"
      ],
      "execution_count": null,
      "outputs": []
    }
  ]
}